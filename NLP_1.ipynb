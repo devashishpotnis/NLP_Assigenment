{
 "cells": [
  {
   "cell_type": "code",
   "execution_count": null,
   "metadata": {},
   "outputs": [],
   "source": [
    "# Name: Devashish Mayur Potnis\n",
    "# Class: BE-AIML"
   ]
  },
  {
   "cell_type": "code",
   "execution_count": 1,
   "metadata": {
    "colab": {
     "base_uri": "https://localhost:8080/"
    },
    "executionInfo": {
     "elapsed": 2379,
     "status": "ok",
     "timestamp": 1705472739903,
     "user": {
      "displayName": "Adwait Deshpande",
      "userId": "14863366921114492910"
     },
     "user_tz": -330
    },
    "id": "YU-7UP-OF256",
    "outputId": "95c6532d-e1be-45c7-d411-70071147c568"
   },
   "outputs": [
    {
     "name": "stderr",
     "output_type": "stream",
     "text": [
      "[nltk_data] Downloading package punkt to\n",
      "[nltk_data]     C:\\Users\\adwai\\AppData\\Roaming\\nltk_data...\n",
      "[nltk_data]   Package punkt is already up-to-date!\n",
      "[nltk_data] Downloading package wordnet to\n",
      "[nltk_data]     C:\\Users\\adwai\\AppData\\Roaming\\nltk_data...\n",
      "[nltk_data]   Package wordnet is already up-to-date!\n"
     ]
    },
    {
     "name": "stdout",
     "output_type": "stream",
     "text": [
      "\n",
      "**Whitespace Tokenization:**\n",
      "['NLTK', 'is', 'a', 'powerful', 'library', 'for', 'natural', 'language', 'processing', 'tasks', '.', 'It', \"'s\", '#', 'awesome', '!']\n",
      "\n",
      "**Punctuation-based Tokenization:**\n",
      "['NLTK', 'is', 'a', 'powerful', 'library', 'for', 'natural', 'language', 'processing', 'tasks', '.', 'It', \"'\", 's', '#', 'awesome', '!']\n",
      "\n",
      "**Treebank Tokenization:**\n",
      "['NLTK', 'is', 'a', 'powerful', 'library', 'for', 'natural', 'language', 'processing', 'tasks.', 'It', \"'s\", '#', 'awesome', '!']\n",
      "\n",
      "**Tweet Tokenization:**\n",
      "['NLTK', 'is', 'a', 'powerful', 'library', 'for', 'natural', 'language', 'processing', 'tasks', '.', \"It's\", '#awesome', '!']\n",
      "\n",
      "**Porter Stemming:**\n",
      "['nltk', 'is', 'a', 'power', 'librari', 'for', 'natur', 'languag', 'process', 'task', '.', 'it', \"'s\", '#', 'awesom', '!']\n",
      "\n",
      "**Snowball Stemming:**\n",
      "['nltk', 'is', 'a', 'power', 'librari', 'for', 'natur', 'languag', 'process', 'task', '.', 'it', \"'s\", '#', 'awesom', '!']\n",
      "\n",
      "**Lemmatization:**\n",
      "['NLTK', 'is', 'a', 'powerful', 'library', 'for', 'natural', 'language', 'processing', 'task', '.', 'It', \"'s\", '#', 'awesome', '!']\n"
     ]
    }
   ],
   "source": [
    "import nltk\n",
    "from nltk.tokenize import word_tokenize, wordpunct_tokenize, TreebankWordTokenizer, TweetTokenizer\n",
    "from nltk.stem import PorterStemmer, SnowballStemmer\n",
    "from nltk.stem import WordNetLemmatizer\n",
    "nltk.download('punkt')\n",
    "nltk.download('wordnet')\n",
    "\n",
    "# Sample text\n",
    "text = \"NLTK is a powerful library for natural language processing tasks. It's #awesome!\"\n",
    "\n",
    "# Tokenization\n",
    "print(\"\\n**Whitespace Tokenization:**\")\n",
    "tokens_ws = word_tokenize(text)\n",
    "print(tokens_ws)\n",
    "\n",
    "print(\"\\n**Punctuation-based Tokenization:**\")\n",
    "tokens_punct = wordpunct_tokenize(text)\n",
    "print(tokens_punct)\n",
    "\n",
    "print(\"\\n**Treebank Tokenization:**\")\n",
    "treebank_tokenizer = TreebankWordTokenizer()\n",
    "tokens_treebank = treebank_tokenizer.tokenize(text)\n",
    "print(tokens_treebank)\n",
    "\n",
    "print(\"\\n**Tweet Tokenization:**\")\n",
    "tweet_tokenizer = TweetTokenizer()\n",
    "tokens_tweet = tweet_tokenizer.tokenize(text)\n",
    "print(tokens_tweet)\n",
    "\n",
    "# Stemming\n",
    "print(\"\\n**Porter Stemming:**\")\n",
    "porter_stemmer = PorterStemmer()\n",
    "stems_porter = [porter_stemmer.stem(token) for token in tokens_ws]\n",
    "print(stems_porter)\n",
    "\n",
    "print(\"\\n**Snowball Stemming:**\")\n",
    "snowball_stemmer = SnowballStemmer(\"english\")  # Choose a language\n",
    "stems_snowball = [snowball_stemmer.stem(token) for token in tokens_ws]\n",
    "print(stems_snowball)\n",
    "\n",
    "# Lemmatization\n",
    "print(\"\\n**Lemmatization:**\")\n",
    "lemmatizer = WordNetLemmatizer()\n",
    "lemmas = [lemmatizer.lemmatize(token) for token in tokens_ws]\n",
    "print(lemmas)\n"
   ]
  },
  {
   "cell_type": "code",
   "execution_count": null,
   "metadata": {
    "id": "UNAAkE0yHAYw"
   },
   "outputs": [],
   "source": [
    "# Tokenization\n",
    "# Definition: Splitting text into smaller units like words or phrases.\n",
    "# Methods:\n",
    "# Whitespace: Splits text by spaces.\n",
    "# Punctuation-based: Uses punctuation to break text.\n",
    "# Treebank: More complex, considers linguistic patterns.\n",
    "# Tweet: Specially designed for social media, handles hashtags, mentions, etc.\n",
    "# MWE (Multi-Word Expression): Identifies multi-word expressions as single tokens.\n",
    "# Stemming\n",
    "# Definition: Reduces words to their root form by removing suffixes/prefixes.\n",
    "# Techniques:\n",
    "# Porter Stemmer: A common algorithm, often aggressive.\n",
    "# Snowball Stemmer: A more versatile version of Porter, with multilingual support.\n",
    "# Lemmatization\n",
    "# Definition: Converts words to their base/dictionary form, considering context.\n",
    "# Method: Requires a lexical database like WordNet to return the correct form."
   ]
  }
 ],
 "metadata": {
  "colab": {
   "authorship_tag": "ABX9TyMW/gBO73+XdcagfBgyjVOr",
   "provenance": []
  },
  "kernelspec": {
   "display_name": "Python 3 (ipykernel)",
   "language": "python",
   "name": "python3"
  },
  "language_info": {
   "codemirror_mode": {
    "name": "ipython",
    "version": 3
   },
   "file_extension": ".py",
   "mimetype": "text/x-python",
   "name": "python",
   "nbconvert_exporter": "python",
   "pygments_lexer": "ipython3",
   "version": "3.8.10"
  }
 },
 "nbformat": 4,
 "nbformat_minor": 1
}
